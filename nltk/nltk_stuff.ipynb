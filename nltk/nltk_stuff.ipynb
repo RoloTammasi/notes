{
 "cells": [
  {
   "cell_type": "code",
   "execution_count": 23,
   "metadata": {
    "collapsed": true
   },
   "outputs": [],
   "source": [
    "####### CHAPTER 1 #######"
   ]
  },
  {
   "cell_type": "code",
   "execution_count": 4,
   "metadata": {
    "collapsed": false
   },
   "outputs": [
    {
     "name": "stdout",
     "output_type": "stream",
     "text": [
      "showing info https://raw.githubusercontent.com/nltk/nltk_data/gh-pages/index.xml\n"
     ]
    },
    {
     "data": {
      "text/plain": [
       "True"
      ]
     },
     "execution_count": 4,
     "metadata": {},
     "output_type": "execute_result"
    }
   ],
   "source": [
    "import nltk\n",
    "nltk.download()"
   ]
  },
  {
   "cell_type": "code",
   "execution_count": 4,
   "metadata": {
    "collapsed": false,
    "scrolled": false
   },
   "outputs": [],
   "source": [
    "# Run this every time notebook is opened\n",
    "import nltk\n",
    "from nltk.book import *\n",
    "from __future__ import division\n",
    "%matplotlib inline\n",
    "\n",
    "def lexical_diversity(text):\n",
    "    return len(set(text)) / len(text)\n",
    "\n",
    "def percentage(count, total):\n",
    "    return 100 * count / total"
   ]
  },
  {
   "cell_type": "code",
   "execution_count": 2,
   "metadata": {
    "collapsed": false
   },
   "outputs": [
    {
     "data": {
      "text/plain": [
       "<Text: The Book of Genesis>"
      ]
     },
     "execution_count": 2,
     "metadata": {},
     "output_type": "execute_result"
    }
   ],
   "source": [
    "text3"
   ]
  },
  {
   "cell_type": "code",
   "execution_count": 3,
   "metadata": {
    "collapsed": false
   },
   "outputs": [
    {
     "name": "stdout",
     "output_type": "stream",
     "text": [
      "Displaying 16 of 16 matches:\n",
      "nd the tree of knowledge of good and evil . And a river went out of Eden to wa\n",
      "he tree of the knowledge of good and evil , thou shalt not eat of for in the d\n",
      " shall be as gods , knowing good and evil . And when the woman saw that the tr\n",
      "f the thoughts of his heart was only evil continually . And it repented the LO\n",
      " the imagination of man ' s heart is evil from his youth ; neither will I agai\n",
      "t escape to the mountain , lest some evil take me , and I d Behold now , this \n",
      "Joseph brought unto his father their evil report . Now Israel loved Joseph mor\n",
      "to some pit , and we will say , Some evil beast hath devoured h and we shall s\n",
      "nd said , It is my son ' s coat ; an evil beast hath devoured him ; Joseph is \n",
      "to them , Wherefore have ye rewarded evil for good ? Is not this it in which m\n",
      "by indeed he divineth ? ye have done evil in so doing . And he overtook them ,\n",
      "ith me ? lest peradventure I see the evil that shall come on my father . Then \n",
      "re an hundred and thirty yea few and evil have the days of the years of my lif\n",
      "The Angel which redeemed me from all evil , bless the lads ; and let my name b\n",
      "nd will certainly requite us all the evil which we did unto him . And they sen\n",
      "of God ? But as for you , ye thought evil against me ; but God meant it unto g\n"
     ]
    }
   ],
   "source": [
    "text3.concordance('evil')"
   ]
  },
  {
   "cell_type": "code",
   "execution_count": 5,
   "metadata": {
    "collapsed": false
   },
   "outputs": [
    {
     "name": "stdout",
     "output_type": "stream",
     "text": [
      "cave money go earth sinew bread silver we men day cattle i lord\n",
      "present woman field land wine eshban hazarmaveth\n"
     ]
    }
   ],
   "source": [
    "text3.similar('evil')"
   ]
  },
  {
   "cell_type": "code",
   "execution_count": 7,
   "metadata": {
    "collapsed": false
   },
   "outputs": [
    {
     "name": "stdout",
     "output_type": "stream",
     "text": [
      "and_said and_called unto_and\n"
     ]
    }
   ],
   "source": [
    "text3.common_contexts(['Adam','God'])"
   ]
  },
  {
   "cell_type": "code",
   "execution_count": 5,
   "metadata": {
    "collapsed": false
   },
   "outputs": [
    {
     "data": {
      "image/png": "[encoded data removed]",
      "text/plain": [
       "<matplotlib.figure.Figure at 0x10d12c650>"
      ]
     },
     "metadata": {},
     "output_type": "display_data"
    }
   ],
   "source": [
    "text3.dispersion_plot(['God','Adam','Eve','good','evil','Abraham','Abram'])"
   ]
  },
  {
   "cell_type": "code",
   "execution_count": 19,
   "metadata": {
    "collapsed": false
   },
   "outputs": [],
   "source": [
    "# The generate() method is not available in NLTK 3.0 but will be reinstated in a subsequent version.\n",
    "#text3.generate()"
   ]
  },
  {
   "cell_type": "code",
   "execution_count": 20,
   "metadata": {
    "collapsed": false
   },
   "outputs": [
    {
     "data": {
      "text/plain": [
       "44764"
      ]
     },
     "execution_count": 20,
     "metadata": {},
     "output_type": "execute_result"
    }
   ],
   "source": [
    "len(text3)"
   ]
  },
  {
   "cell_type": "code",
   "execution_count": 25,
   "metadata": {
    "collapsed": false
   },
   "outputs": [
    {
     "data": {
      "text/plain": [
       "[u'!',\n",
       " u\"'\",\n",
       " u'(',\n",
       " u')',\n",
       " u',',\n",
       " u',)',\n",
       " u'.',\n",
       " u'.)',\n",
       " u':',\n",
       " u';',\n",
       " u';)',\n",
       " u'?',\n",
       " u'?)',\n",
       " u'A',\n",
       " u'Abel',\n",
       " u'Abelmizraim',\n",
       " u'Abidah',\n",
       " u'Abide',\n",
       " u'Abimael',\n",
       " u'Abimelech',\n",
       " u'Abr',\n",
       " u'Abrah',\n",
       " u'Abraham',\n",
       " u'Abram',\n",
       " u'Accad']"
      ]
     },
     "execution_count": 25,
     "metadata": {},
     "output_type": "execute_result"
    }
   ],
   "source": [
    "sorted(set(text3))[:25]"
   ]
  },
  {
   "cell_type": "code",
   "execution_count": 22,
   "metadata": {
    "collapsed": false
   },
   "outputs": [
    {
     "data": {
      "text/plain": [
       "2789"
      ]
     },
     "execution_count": 22,
     "metadata": {},
     "output_type": "execute_result"
    }
   ],
   "source": [
    "# Number of distinct words\n",
    "len(set(text3))"
   ]
  },
  {
   "cell_type": "code",
   "execution_count": 26,
   "metadata": {
    "collapsed": false
   },
   "outputs": [
    {
     "data": {
      "text/plain": [
       "0.06230453042623537"
      ]
     },
     "execution_count": 26,
     "metadata": {},
     "output_type": "execute_result"
    }
   ],
   "source": [
    "# Percent of distinct words in overall text\n",
    "len(set(text3)) / (len(text3))"
   ]
  },
  {
   "cell_type": "code",
   "execution_count": 27,
   "metadata": {
    "collapsed": false
   },
   "outputs": [
    {
     "data": {
      "text/plain": [
       "8"
      ]
     },
     "execution_count": 27,
     "metadata": {},
     "output_type": "execute_result"
    }
   ],
   "source": [
    "text3.count('sin')"
   ]
  },
  {
   "cell_type": "code",
   "execution_count": 6,
   "metadata": {
    "collapsed": false
   },
   "outputs": [
    {
     "data": {
      "text/plain": [
       "0.017871503887052095"
      ]
     },
     "execution_count": 6,
     "metadata": {},
     "output_type": "execute_result"
    }
   ],
   "source": [
    "100 * text3.count('sin') / len(text3)"
   ]
  },
  {
   "cell_type": "code",
   "execution_count": 32,
   "metadata": {
    "collapsed": false
   },
   "outputs": [
    {
     "data": {
      "text/plain": [
       "2561"
      ]
     },
     "execution_count": 32,
     "metadata": {},
     "output_type": "execute_result"
    }
   ],
   "source": [
    "text3.index('sin')"
   ]
  },
  {
   "cell_type": "code",
   "execution_count": 34,
   "metadata": {
    "collapsed": false
   },
   "outputs": [
    {
     "data": {
      "text/plain": [
       "u'sin'"
      ]
     },
     "execution_count": 34,
     "metadata": {},
     "output_type": "execute_result"
    }
   ],
   "source": [
    "text3[2561]"
   ]
  },
  {
   "cell_type": "code",
   "execution_count": 36,
   "metadata": {
    "collapsed": false
   },
   "outputs": [
    {
     "data": {
      "text/plain": [
       "[u'if',\n",
       " u'thou',\n",
       " u'doest',\n",
       " u'not',\n",
       " u'well',\n",
       " u',',\n",
       " u'sin',\n",
       " u'lieth',\n",
       " u'at',\n",
       " u'the',\n",
       " u'door',\n",
       " u'.',\n",
       " u'And',\n",
       " u'unto',\n",
       " u'thee',\n",
       " u'shall',\n",
       " u'be',\n",
       " u'his',\n",
       " u'desire',\n",
       " u',']"
      ]
     },
     "execution_count": 36,
     "metadata": {},
     "output_type": "execute_result"
    }
   ],
   "source": [
    "text3[2555:2575]"
   ]
  },
  {
   "cell_type": "code",
   "execution_count": 38,
   "metadata": {
    "collapsed": false
   },
   "outputs": [
    {
     "data": {
      "text/plain": [
       "[u'In',\n",
       " u'the',\n",
       " u'beginning',\n",
       " u'God',\n",
       " u'created',\n",
       " u'the',\n",
       " u'heaven',\n",
       " u'and',\n",
       " u'the',\n",
       " u'earth',\n",
       " u'.']"
      ]
     },
     "execution_count": 38,
     "metadata": {},
     "output_type": "execute_result"
    }
   ],
   "source": [
    "text3[:11]"
   ]
  },
  {
   "cell_type": "code",
   "execution_count": 42,
   "metadata": {
    "collapsed": false
   },
   "outputs": [
    {
     "data": {
      "text/plain": [
       "[(u',', 3681),\n",
       " (u'and', 2428),\n",
       " (u'the', 2411),\n",
       " (u'of', 1358),\n",
       " (u'.', 1315),\n",
       " (u'And', 1250),\n",
       " (u'his', 651),\n",
       " (u'he', 648),\n",
       " (u'to', 611),\n",
       " (u';', 605),\n",
       " (u'unto', 590),\n",
       " (u'in', 588),\n",
       " (u'that', 509),\n",
       " (u'I', 484),\n",
       " (u'said', 476),\n",
       " (u'him', 387),\n",
       " (u'a', 342),\n",
       " (u'my', 325),\n",
       " (u'was', 317),\n",
       " (u'for', 297),\n",
       " (u'it', 290),\n",
       " (u'with', 289),\n",
       " (u'me', 282),\n",
       " (u'thou', 272),\n",
       " (u\"'\", 268),\n",
       " (u'is', 267),\n",
       " (u'thy', 267),\n",
       " (u's', 263),\n",
       " (u'thee', 257),\n",
       " (u'be', 254),\n",
       " (u'shall', 253),\n",
       " (u'they', 249),\n",
       " (u'all', 245),\n",
       " (u':', 238),\n",
       " (u'God', 231),\n",
       " (u'them', 230),\n",
       " (u'not', 224),\n",
       " (u'father', 198),\n",
       " (u'which', 198),\n",
       " (u'will', 195),\n",
       " (u'land', 184),\n",
       " (u'Jacob', 179),\n",
       " (u'came', 177),\n",
       " (u'her', 173),\n",
       " (u'LORD', 166),\n",
       " (u'were', 163),\n",
       " (u'she', 161),\n",
       " (u'Joseph', 157),\n",
       " (u'from', 157),\n",
       " (u'their', 153)]"
      ]
     },
     "execution_count": 42,
     "metadata": {},
     "output_type": "execute_result"
    }
   ],
   "source": [
    "fdist3 = FreqDist(text3)\n",
    "fdist3.most_common(50)"
   ]
  },
  {
   "cell_type": "code",
   "execution_count": 40,
   "metadata": {
    "collapsed": false
   },
   "outputs": [
    {
     "data": {
      "text/plain": [
       "8"
      ]
     },
     "execution_count": 40,
     "metadata": {},
     "output_type": "execute_result"
    }
   ],
   "source": [
    "fdist3['sin']"
   ]
  },
  {
   "cell_type": "code",
   "execution_count": 43,
   "metadata": {
    "collapsed": false
   },
   "outputs": [
    {
     "data": {
      "image/png": "[encoded data removed]",
      "text/plain": [
       "<matplotlib.figure.Figure at 0xaa8849cc>"
      ]
     },
     "metadata": {},
     "output_type": "display_data"
    }
   ],
   "source": [
    "fdist3.plot(50, cumulative=True)"
   ]
  },
  {
   "cell_type": "code",
   "execution_count": 48,
   "metadata": {
    "collapsed": false
   },
   "outputs": [
    {
     "data": {
      "text/plain": [
       "[u'alo',\n",
       " u'Night',\n",
       " u'Matred',\n",
       " u'protest',\n",
       " u'yonder',\n",
       " u'Ehi',\n",
       " u'feeding',\n",
       " u'Peniel',\n",
       " u'intreat',\n",
       " u'spee',\n",
       " u'merchant',\n",
       " u'void',\n",
       " u'nourished',\n",
       " u'confederate',\n",
       " u'Gether',\n",
       " u'clothed',\n",
       " u'guiding',\n",
       " u'parted',\n",
       " u'force',\n",
       " u'nigh']"
      ]
     },
     "execution_count": 48,
     "metadata": {},
     "output_type": "execute_result"
    }
   ],
   "source": [
    "# Hapaxes = words that occur only once\n",
    "fdist3.hapaxes()[:20]"
   ]
  },
  {
   "cell_type": "code",
   "execution_count": 13,
   "metadata": {
    "collapsed": false
   },
   "outputs": [
    {
     "data": {
      "text/plain": [
       "[u'Allonbachuth',\n",
       " u'Beerlahairoi',\n",
       " u'Chedorlaomer',\n",
       " u'EleloheIsrael',\n",
       " u'Hazezontamar',\n",
       " u'Jegarsahadutha',\n",
       " u'Jehovahjireh',\n",
       " u'Peradventure',\n",
       " u'Zaphnathpaaneah',\n",
       " u'acknowledged',\n",
       " u'buryingplace',\n",
       " u'commandments',\n",
       " u'interpretation',\n",
       " u'interpretations',\n",
       " u'maidservants',\n",
       " u'peradventure',\n",
       " u'plenteousness',\n",
       " u'righteousness',\n",
       " u'sheepshearers',\n",
       " u'strengthened',\n",
       " u'threshingfloor',\n",
       " u'uncircumcised',\n",
       " u'womenservants']"
      ]
     },
     "execution_count": 13,
     "metadata": {},
     "output_type": "execute_result"
    }
   ],
   "source": [
    "# All words > 11 chars\n",
    "V = set(text3)\n",
    "long_words = [w for w in V if len(w) > 11]\n",
    "sorted(long_words)"
   ]
  },
  {
   "cell_type": "code",
   "execution_count": 14,
   "metadata": {
    "collapsed": false
   },
   "outputs": [
    {
     "data": {
      "text/plain": [
       "[u'Abimelech',\n",
       " u'Beersheba',\n",
       " u'Benjamin',\n",
       " u'Egyptians',\n",
       " u'Gomorrah',\n",
       " u'Manasseh',\n",
       " u'Padanaram',\n",
       " u'Peradventure',\n",
       " u'Therefore',\n",
       " u'Wherefore',\n",
       " u'according',\n",
       " u'answered',\n",
       " u'appeared',\n",
       " u'blessing',\n",
       " u'brethren',\n",
       " u'children',\n",
       " u'circumcised',\n",
       " u'commanded',\n",
       " u'conceived',\n",
       " u'covenant',\n",
       " u'creature',\n",
       " u'creepeth',\n",
       " u'creeping',\n",
       " u'daughter',\n",
       " u'daughters',\n",
       " u'departed',\n",
       " u'everlasting',\n",
       " u'exceedingly',\n",
       " u'families',\n",
       " u'favoured',\n",
       " u'firmament',\n",
       " u'firstborn',\n",
       " u'fruitful',\n",
       " u'gathered',\n",
       " u'generations',\n",
       " u'journeyed',\n",
       " u'multiply',\n",
       " u'offering',\n",
       " u'possession',\n",
       " u'presence',\n",
       " u'returned',\n",
       " u'righteous',\n",
       " u'servants',\n",
       " u'speckled',\n",
       " u'themselves',\n",
       " u'therefore',\n",
       " u'together',\n",
       " u'youngest']"
      ]
     },
     "execution_count": 14,
     "metadata": {},
     "output_type": "execute_result"
    }
   ],
   "source": [
    "# All words > 7 chars that occur > 7 times\n",
    "fdist3 = FreqDist(text3)\n",
    "sorted(w for w in set(text3) if len(w) > 7 and fdist3[w] > 7)"
   ]
  },
  {
   "cell_type": "code",
   "execution_count": 15,
   "metadata": {
    "collapsed": false
   },
   "outputs": [
    {
     "name": "stdout",
     "output_type": "stream",
     "text": [
      "said unto; pray thee; thou shalt; thou hast; thy seed; years old;\n",
      "spake unto; thou art; LORD God; every living; God hath; begat sons;\n",
      "seven years; shalt thou; little ones; living creature; creeping thing;\n",
      "savoury meat; thirty years; every beast\n"
     ]
    }
   ],
   "source": [
    "text3.collocations()"
   ]
  },
  {
   "cell_type": "code",
   "execution_count": 17,
   "metadata": {
    "collapsed": false
   },
   "outputs": [
    {
     "data": {
      "text/plain": [
       "[2, 3, 9, 3, 7, 3, 6, 3, 3, 5, 1, 3, 3, 5, 3, 7, 4, 1, 3, 4]"
      ]
     },
     "execution_count": 17,
     "metadata": {},
     "output_type": "execute_result"
    }
   ],
   "source": [
    "[len(w) for w in text3][:20]"
   ]
  },
  {
   "cell_type": "code",
   "execution_count": 21,
   "metadata": {
    "collapsed": false
   },
   "outputs": [
    {
     "name": "stdout",
     "output_type": "stream",
     "text": [
      "<FreqDist with 15 samples and 44764 outcomes>\n"
     ]
    }
   ],
   "source": [
    "fdist = FreqDist(len(w) for w in text3)\n",
    "print fdist"
   ]
  },
  {
   "cell_type": "code",
   "execution_count": 22,
   "metadata": {
    "collapsed": false
   },
   "outputs": [
    {
     "data": {
      "text/plain": [
       "FreqDist({1: 7408,\n",
       "          2: 5968,\n",
       "          3: 11599,\n",
       "          4: 8984,\n",
       "          5: 4693,\n",
       "          6: 2549,\n",
       "          7: 1674,\n",
       "          8: 928,\n",
       "          9: 599,\n",
       "          10: 182,\n",
       "          11: 123,\n",
       "          12: 39,\n",
       "          13: 9,\n",
       "          14: 7,\n",
       "          15: 2})"
      ]
     },
     "execution_count": 22,
     "metadata": {},
     "output_type": "execute_result"
    }
   ],
   "source": [
    "fdist"
   ]
  },
  {
   "cell_type": "code",
   "execution_count": 23,
   "metadata": {
    "collapsed": false
   },
   "outputs": [
    {
     "data": {
      "text/plain": [
       "[(3, 11599),\n",
       " (4, 8984),\n",
       " (1, 7408),\n",
       " (2, 5968),\n",
       " (5, 4693),\n",
       " (6, 2549),\n",
       " (7, 1674),\n",
       " (8, 928),\n",
       " (9, 599),\n",
       " (10, 182),\n",
       " (11, 123),\n",
       " (12, 39),\n",
       " (13, 9),\n",
       " (14, 7),\n",
       " (15, 2)]"
      ]
     },
     "execution_count": 23,
     "metadata": {},
     "output_type": "execute_result"
    }
   ],
   "source": [
    "fdist.most_common()"
   ]
  },
  {
   "cell_type": "code",
   "execution_count": 24,
   "metadata": {
    "collapsed": false
   },
   "outputs": [
    {
     "data": {
      "text/plain": [
       "3"
      ]
     },
     "execution_count": 24,
     "metadata": {},
     "output_type": "execute_result"
    }
   ],
   "source": [
    "fdist.max()"
   ]
  },
  {
   "cell_type": "code",
   "execution_count": 25,
   "metadata": {
    "collapsed": false
   },
   "outputs": [
    {
     "data": {
      "text/plain": [
       "11599"
      ]
     },
     "execution_count": 25,
     "metadata": {},
     "output_type": "execute_result"
    }
   ],
   "source": [
    "fdist[3]"
   ]
  },
  {
   "cell_type": "code",
   "execution_count": 26,
   "metadata": {
    "collapsed": false
   },
   "outputs": [
    {
     "data": {
      "text/plain": [
       "0.2591144669823966"
      ]
     },
     "execution_count": 26,
     "metadata": {},
     "output_type": "execute_result"
    }
   ],
   "source": [
    "fdist.freq(3)"
   ]
  },
  {
   "cell_type": "code",
   "execution_count": 28,
   "metadata": {
    "collapsed": false
   },
   "outputs": [
    {
     "data": {
      "text/plain": [
       "[]"
      ]
     },
     "execution_count": 28,
     "metadata": {},
     "output_type": "execute_result"
    }
   ],
   "source": [
    "sorted(w for w in set(text3) if w.isdigit())"
   ]
  },
  {
   "cell_type": "code",
   "execution_count": 30,
   "metadata": {
    "collapsed": false
   },
   "outputs": [
    {
     "data": {
      "text/plain": [
       "[u'A',\n",
       " u'Abel',\n",
       " u'Abelmizraim',\n",
       " u'Abidah',\n",
       " u'Abide',\n",
       " u'Abimael',\n",
       " u'Abimelech',\n",
       " u'Abr',\n",
       " u'Abrah',\n",
       " u'Abraham',\n",
       " u'Abram',\n",
       " u'Accad',\n",
       " u'Achbor',\n",
       " u'Adah',\n",
       " u'Adam',\n",
       " u'Adbeel',\n",
       " u'Admah',\n",
       " u'Adullamite',\n",
       " u'After',\n",
       " u'Aholibamah']"
      ]
     },
     "execution_count": 30,
     "metadata": {},
     "output_type": "execute_result"
    }
   ],
   "source": [
    "sorted(w for w in set(text3) if w.istitle())[:20]"
   ]
  },
  {
   "cell_type": "code",
   "execution_count": 31,
   "metadata": {
    "collapsed": false
   },
   "outputs": [
    {
     "data": {
      "text/plain": [
       "[u'A', u'G', u'I', u'LO', u'LORD', u'O']"
      ]
     },
     "execution_count": 31,
     "metadata": {},
     "output_type": "execute_result"
    }
   ],
   "source": [
    "sorted(w for w in set(text3) if w.isupper())"
   ]
  },
  {
   "cell_type": "code",
   "execution_count": 34,
   "metadata": {
    "collapsed": false
   },
   "outputs": [
    {
     "data": {
      "text/plain": [
       "44764"
      ]
     },
     "execution_count": 34,
     "metadata": {},
     "output_type": "execute_result"
    }
   ],
   "source": [
    "len(text3)"
   ]
  },
  {
   "cell_type": "code",
   "execution_count": 36,
   "metadata": {
    "collapsed": false
   },
   "outputs": [
    {
     "data": {
      "text/plain": [
       "2789"
      ]
     },
     "execution_count": 36,
     "metadata": {},
     "output_type": "execute_result"
    }
   ],
   "source": [
    "len(set(text3))"
   ]
  },
  {
   "cell_type": "code",
   "execution_count": 37,
   "metadata": {
    "collapsed": false
   },
   "outputs": [
    {
     "data": {
      "text/plain": [
       "2615"
      ]
     },
     "execution_count": 37,
     "metadata": {},
     "output_type": "execute_result"
    }
   ],
   "source": [
    "len(set(w.lower() for w in text3 if w.isalpha()))"
   ]
  },
  {
   "cell_type": "code",
   "execution_count": null,
   "metadata": {
    "collapsed": true
   },
   "outputs": [],
   "source": []
  }
 ],
 "metadata": {
  "anaconda-cloud": {},
  "kernelspec": {
   "display_name": "Python [conda root]",
   "language": "python",
   "name": "conda-root-py"
  },
  "language_info": {
   "codemirror_mode": {
    "name": "ipython",
    "version": 2
   },
   "file_extension": ".py",
   "mimetype": "text/x-python",
   "name": "python",
   "nbconvert_exporter": "python",
   "pygments_lexer": "ipython2",
   "version": "2.7.12"
  }
 },
 "nbformat": 4,
 "nbformat_minor": 1
}
