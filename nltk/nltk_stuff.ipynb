{
 "cells": [
  {
   "cell_type": "code",
   "execution_count": 4,
   "metadata": {
    "collapsed": false
   },
   "outputs": [
    {
     "name": "stdout",
     "output_type": "stream",
     "text": [
      "showing info https://raw.githubusercontent.com/nltk/nltk_data/gh-pages/index.xml\n"
     ]
    },
    {
     "data": {
      "text/plain": [
       "True"
      ]
     },
     "execution_count": 4,
     "metadata": {},
     "output_type": "execute_result"
    }
   ],
   "source": [
    "import nltk\n",
    "nltk.download()"
   ]
  },
  {
   "cell_type": "code",
   "execution_count": 5,
   "metadata": {
    "collapsed": false,
    "scrolled": true
   },
   "outputs": [
    {
     "name": "stdout",
     "output_type": "stream",
     "text": [
      "*** Introductory Examples for the NLTK Book ***\n",
      "Loading text1, ..., text9 and sent1, ..., sent9\n",
      "Type the name of the text or sentence to view it.\n",
      "Type: 'texts()' or 'sents()' to list the materials.\n",
      "text1: Moby Dick by Herman Melville 1851\n",
      "text2: Sense and Sensibility by Jane Austen 1811\n",
      "text3: The Book of Genesis\n",
      "text4: Inaugural Address Corpus\n",
      "text5: Chat Corpus\n",
      "text6: Monty Python and the Holy Grail\n",
      "text7: Wall Street Journal\n",
      "text8: Personals Corpus\n",
      "text9: The Man Who Was Thursday by G . K . Chesterton 1908\n"
     ]
    }
   ],
   "source": [
    "from nltk.book import *"
   ]
  },
  {
   "cell_type": "code",
   "execution_count": 6,
   "metadata": {
    "collapsed": false
   },
   "outputs": [
    {
     "data": {
      "text/plain": [
       "<Text: The Book of Genesis>"
      ]
     },
     "execution_count": 6,
     "metadata": {},
     "output_type": "execute_result"
    }
   ],
   "source": [
    "text3"
   ]
  },
  {
   "cell_type": "code",
   "execution_count": 7,
   "metadata": {
    "collapsed": false
   },
   "outputs": [
    {
     "name": "stdout",
     "output_type": "stream",
     "text": [
      "Displaying 16 of 16 matches:\n",
      "nd the tree of knowledge of good and evil . And a river went out of Eden to wa\n",
      "he tree of the knowledge of good and evil , thou shalt not eat of for in the d\n",
      " shall be as gods , knowing good and evil . And when the woman saw that the tr\n",
      "f the thoughts of his heart was only evil continually . And it repented the LO\n",
      " the imagination of man ' s heart is evil from his youth ; neither will I agai\n",
      "t escape to the mountain , lest some evil take me , and I d Behold now , this \n",
      "Joseph brought unto his father their evil report . Now Israel loved Joseph mor\n",
      "to some pit , and we will say , Some evil beast hath devoured h and we shall s\n",
      "nd said , It is my son ' s coat ; an evil beast hath devoured him ; Joseph is \n",
      "to them , Wherefore have ye rewarded evil for good ? Is not this it in which m\n",
      "by indeed he divineth ? ye have done evil in so doing . And he overtook them ,\n",
      "ith me ? lest peradventure I see the evil that shall come on my father . Then \n",
      "re an hundred and thirty yea few and evil have the days of the years of my lif\n",
      "The Angel which redeemed me from all evil , bless the lads ; and let my name b\n",
      "nd will certainly requite us all the evil which we did unto him . And they sen\n",
      "of God ? But as for you , ye thought evil against me ; but God meant it unto g\n"
     ]
    }
   ],
   "source": [
    "text3.concordance('evil')"
   ]
  },
  {
   "cell_type": "code",
   "execution_count": null,
   "metadata": {
    "collapsed": true
   },
   "outputs": [],
   "source": []
  }
 ],
 "metadata": {
  "anaconda-cloud": {},
  "kernelspec": {
   "display_name": "Python [conda root]",
   "language": "python",
   "name": "conda-root-py"
  },
  "language_info": {
   "codemirror_mode": {
    "name": "ipython",
    "version": 2
   },
   "file_extension": ".py",
   "mimetype": "text/x-python",
   "name": "python",
   "nbconvert_exporter": "python",
   "pygments_lexer": "ipython2",
   "version": "2.7.12"
  }
 },
 "nbformat": 4,
 "nbformat_minor": 1
}
